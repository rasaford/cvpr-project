{
 "cells": [
  {
   "cell_type": "code",
   "execution_count": 12,
   "metadata": {
    "pycharm": {
     "is_executing": false
    }
   },
   "outputs": [
    {
     "name": "stdout",
     "output_type": "stream",
     "text": [
      "The autoreload extension is already loaded. To reload it, use:\n",
      "  %reload_ext autoreload\n"
     ]
    }
   ],
   "source": [
    "from datasets.load import load_samples\n",
    "import numpy as np\n",
    "import matplotlib.pyplot as plt\n",
    "import matplotlib.patches as patches\n",
    "import cv2\n",
    "\n",
    "%matplotlib inline\n",
    "plt.rcParams['figure.figsize'] = (15., 12.) # set default size of plots\n",
    "#plt.rcParams['image.interpolation'] = 'nearest'\n",
    "#plt.rcParams['image.cmap'] = 'gray'\n",
    "\n",
    "# for auto-reloading extenrnal modules\n",
    "%load_ext autoreload\n",
    "%autoreload 2"
   ]
  },
  {
   "cell_type": "code",
   "execution_count": 13,
   "metadata": {
    "pycharm": {
     "is_executing": false
    },
    "scrolled": false
   },
   "outputs": [],
   "source": [
    "def draw_bbox(ax, name, box, col='r'):\n",
    "    r = patches.Rectangle((box[0], box[1]), \n",
    "                          box[2] - box[0],\n",
    "                          box[3] - box[1],\n",
    "                          linewidth=3,\n",
    "                          edgecolor=col,\n",
    "                          facecolor='none')\n",
    "    ax.add_patch(r)\n",
    "    ax.text(box[0], box[1], name,\n",
    "            bbox={'facecolor': col, 'linewidth': 0})\n",
    "\n",
    "def draw_annotation(ax, classes):\n",
    "    colors = plt.get_cmap('tab10')\n",
    "    for idx, cl in enumerate(classes):\n",
    "        col = colors(idx)\n",
    "        for box in cl['bounds']:\n",
    "            draw_bbox(ax, cl['name'], box, col)"
   ]
  },
  {
   "cell_type": "code",
   "execution_count": 14,
   "metadata": {
    "pycharm": {
     "is_executing": false
    }
   },
   "outputs": [
    {
     "ename": "FileNotFoundError",
     "evalue": "[Errno 2] No such file or directory: 'waldo0.pkl'",
     "output_type": "error",
     "traceback": [
      "\u001b[0;31m---------------------------------------------------------------------------\u001b[0m",
      "\u001b[0;31mFileNotFoundError\u001b[0m                         Traceback (most recent call last)",
      "\u001b[0;32m<ipython-input-14-017ba092eedd>\u001b[0m in \u001b[0;36m<module>\u001b[0;34m\u001b[0m\n\u001b[1;32m      4\u001b[0m \u001b[0mwaldo1_file\u001b[0m \u001b[0;34m=\u001b[0m \u001b[0;34m'waldo1.pkl'\u001b[0m\u001b[0;34m\u001b[0m\u001b[0m\n\u001b[1;32m      5\u001b[0m \u001b[0;34m\u001b[0m\u001b[0m\n\u001b[0;32m----> 6\u001b[0;31m \u001b[0;32mwith\u001b[0m \u001b[0mopen\u001b[0m\u001b[0;34m(\u001b[0m\u001b[0mwaldo0_file\u001b[0m\u001b[0;34m,\u001b[0m \u001b[0;34m'rb'\u001b[0m\u001b[0;34m)\u001b[0m \u001b[0;32mas\u001b[0m \u001b[0mf\u001b[0m\u001b[0;34m:\u001b[0m\u001b[0;34m\u001b[0m\u001b[0m\n\u001b[0m\u001b[1;32m      7\u001b[0m     \u001b[0mwaldo0\u001b[0m \u001b[0;34m=\u001b[0m \u001b[0mpickle\u001b[0m\u001b[0;34m.\u001b[0m\u001b[0mload\u001b[0m\u001b[0;34m(\u001b[0m\u001b[0mf\u001b[0m\u001b[0;34m)\u001b[0m\u001b[0;34m\u001b[0m\u001b[0m\n\u001b[1;32m      8\u001b[0m \u001b[0;32mwith\u001b[0m \u001b[0mopen\u001b[0m\u001b[0;34m(\u001b[0m\u001b[0mwaldo1_file\u001b[0m\u001b[0;34m,\u001b[0m \u001b[0;34m'rb'\u001b[0m\u001b[0;34m)\u001b[0m \u001b[0;32mas\u001b[0m \u001b[0mf\u001b[0m\u001b[0;34m:\u001b[0m\u001b[0;34m\u001b[0m\u001b[0m\n",
      "\u001b[0;31mFileNotFoundError\u001b[0m: [Errno 2] No such file or directory: 'waldo0.pkl'"
     ]
    }
   ],
   "source": [
    "import pickle\n",
    "\n",
    "waldo0_file = 'waldo0.pkl'\n",
    "waldo1_file = 'waldo1.pkl'  \n",
    "    \n",
    "with open(waldo0_file, 'rb') as f:\n",
    "    waldo0 = pickle.load(f)\n",
    "with open(waldo1_file, 'rb') as f:\n",
    "    waldo1 = pickle.load(f)\n",
    "    \n",
    "waldos = [waldo0, waldo1]\n",
    "\n",
    "for waldo in waldos:\n",
    "    #bbox = waldo['bbox']\n",
    "    img = waldo['img']\n",
    "    #sx, sy = bbox[2] - bbox[0], bbox[3] - bbox[1]\n",
    "    #size = min(sx, sy)\n",
    "    res = cv2.resize(img, dsize=(128, 128), interpolation=cv2.INTER_CUBIC)\n",
    "    waldo['img'] = res\n",
    "    \n",
    "    \n",
    "for idx, waldo in enumerate(waldos):\n",
    "    ax = plt.subplot(1,2,idx +1)\n",
    "    plt.imshow(waldo['img'])\n",
    "    #draw_bbox(ax, waldo['name'], waldo['bbox'])\n",
    "    plt.title('waldo{}, scale: {}'.format(idx, waldo['scale']))\n",
    "\n",
    "plt.show()"
   ]
  },
  {
   "cell_type": "code",
   "execution_count": null,
   "metadata": {
    "pycharm": {
     "is_executing": false
    }
   },
   "outputs": [],
   "source": [
    "from scipy import ndimage\n",
    "\n",
    "\n",
    "def hog(img):\n",
    "    dx = ndimage.sobel(img, 0)\n",
    "    dy = ndimage.soble(img, )\n",
    "    "
   ]
  }
 ],
 "metadata": {
  "kernelspec": {
   "display_name": "Python 3",
   "language": "python",
   "name": "python3"
  },
  "language_info": {
   "codemirror_mode": {
    "name": "ipython",
    "version": 3
   },
   "file_extension": ".py",
   "mimetype": "text/x-python",
   "name": "python",
   "nbconvert_exporter": "python",
   "pygments_lexer": "ipython3",
   "version": "3.6.1"
  }
 },
 "nbformat": 4,
 "nbformat_minor": 2
}
