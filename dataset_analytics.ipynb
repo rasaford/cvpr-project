{
 "cells": [
  {
   "cell_type": "code",
   "execution_count": 2,
   "metadata": {},
   "outputs": [
    {
     "name": "stdout",
     "output_type": "stream",
     "text": [
      "The autoreload extension is already loaded. To reload it, use:\n",
      "  %reload_ext autoreload\n"
     ]
    }
   ],
   "source": [
    "from datasets.load import load_images\n",
    "import numpy as np\n",
    "import matplotlib.pyplot as plt\n",
    "import pickle\n",
    "\n",
    "%matplotlib inline\n",
    "plt.rcParams['figure.figsize'] = (15., 12.) # set default size of plots\n",
    "\n",
    "# for auto-reloading extenrnal modules\n",
    "%load_ext autoreload\n",
    "%autoreload 2"
   ]
  },
  {
   "cell_type": "code",
   "execution_count": 3,
   "metadata": {},
   "outputs": [],
   "source": [
    "plt.rcParams['figure.figsize'] = (15., 12.) # set default size of plots"
   ]
  },
  {
   "cell_type": "code",
   "execution_count": 6,
   "metadata": {},
   "outputs": [],
   "source": [
    "train = load_images('train', 'datasets')"
   ]
  },
  {
   "cell_type": "code",
   "execution_count": 34,
   "metadata": {
    "scrolled": false
   },
   "outputs": [
    {
     "name": "stdout",
     "output_type": "stream",
     "text": [
      "mean bounds asprect ratio: 1.8331418038328995\n",
      "mean bounds size (h,w): [449.39130435 240.9673913 ] px\n",
      "mean optimal image size (h,w): [3434.46830847 4223.83102011] px\n"
     ]
    }
   ],
   "source": [
    "aspect_ratios = np.mean(\n",
    "    [(bbx['y2'] - bbx['y1']) / (bbx['x2'] - bbx['x1']) \n",
    "                         for sample in train\n",
    "                         for cl in sample['classes'] \n",
    "                         for bbx in cl['bounds']]\n",
    ")\n",
    "pixel_size = np.mean(\n",
    "   [[bbx['y2'] - bbx['y1'],\n",
    "     bbx['x2'] - bbx['x1']] \n",
    "                         for sample in train\n",
    "                         for cl in sample['classes'] \n",
    "                         for bbx in cl['bounds']], axis=0\n",
    ")\n",
    "sugg_size = np.mean(\n",
    "   [[sample['size'][0] * 128 / (bbx['y2'] - bbx['y1']), \n",
    "     sample['size'][1] * 128 / (bbx['x2'] - bbx['x1'])] \n",
    "                         for sample in train\n",
    "                         for cl in sample['classes'] \n",
    "                         for bbx in cl['bounds']], axis=0\n",
    ")\n",
    "\n",
    "print('mean bounds asprect ratio: {}'.format(aspect_ratios))\n",
    "print('mean bounds size (h,w): {} px'.format(pixel_size))\n",
    "print('mean optimal image size (h,w): {} px'.format(sugg_size))\n"
   ]
  },
  {
   "cell_type": "code",
   "execution_count": null,
   "metadata": {},
   "outputs": [],
   "source": []
  }
 ],
 "metadata": {
  "kernelspec": {
   "display_name": "Python [conda env:cs4243]",
   "language": "python",
   "name": "conda-env-cs4243-py"
  },
  "language_info": {
   "codemirror_mode": {
    "name": "ipython",
    "version": 3
   },
   "file_extension": ".py",
   "mimetype": "text/x-python",
   "name": "python",
   "nbconvert_exporter": "python",
   "pygments_lexer": "ipython3",
   "version": "3.7.4"
  }
 },
 "nbformat": 4,
 "nbformat_minor": 2
}
