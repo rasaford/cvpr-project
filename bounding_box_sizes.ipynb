{
 "cells": [
  {
   "cell_type": "code",
   "execution_count": 1,
   "metadata": {},
   "outputs": [],
   "source": [
    "from datasets.load import load_samples\n",
    "import numpy as np\n",
    "import matplotlib.pyplot as plt\n",
    "import matplotlib.patches as patches\n",
    "\n",
    "%matplotlib inline\n",
    "plt.rcParams['figure.figsize'] = (15., 12.) # set default size of plots\n",
    "#plt.rcParams['image.interpolation'] = 'nearest'\n",
    "#plt.rcParams['image.cmap'] = 'gray'\n",
    "\n",
    "# for auto-reloading extenrnal modules\n",
    "%load_ext autoreload\n",
    "%autoreload 2"
   ]
  },
  {
   "cell_type": "code",
   "execution_count": 2,
   "metadata": {
    "scrolled": false
   },
   "outputs": [],
   "source": [
    "samples = load_samples('train', 'datasets')"
   ]
  },
  {
   "cell_type": "code",
   "execution_count": 3,
   "metadata": {
    "scrolled": false
   },
   "outputs": [
    {
     "name": "stdout",
     "output_type": "stream",
     "text": [
      "median bounding box sizes: x: 192.0, y: 308.0, ratio: 1.6\n"
     ]
    }
   ],
   "source": [
    "bbox_sizes = []\n",
    "for sample in samples:\n",
    "    for cl in sample['classes']:\n",
    "        for bbox in cl['bounds']:\n",
    "            sx = bbox[2] - bbox[0]\n",
    "            sy = bbox[3] - bbox[1]\n",
    "            bbox_sizes.append((sx,sy))\n",
    "x = np.median([s[0] for s in bbox_sizes])\n",
    "y = np.median([s[1] for s in bbox_sizes])\n",
    "            \n",
    "print('median bounding box sizes: x: {}, y: {}, ratio: {}'.format(x, y, round(y/x, 2)))\n",
    "      "
   ]
  },
  {
   "cell_type": "code",
   "execution_count": null,
   "metadata": {},
   "outputs": [],
   "source": []
  }
 ],
 "metadata": {
  "kernelspec": {
   "display_name": "Python [conda env:cvpr] *",
   "language": "python",
   "name": "conda-env-cvpr-py"
  },
  "language_info": {
   "codemirror_mode": {
    "name": "ipython",
    "version": 3
   },
   "file_extension": ".py",
   "mimetype": "text/x-python",
   "name": "python",
   "nbconvert_exporter": "python",
   "pygments_lexer": "ipython3",
   "version": "3.6.9"
  }
 },
 "nbformat": 4,
 "nbformat_minor": 2
}
