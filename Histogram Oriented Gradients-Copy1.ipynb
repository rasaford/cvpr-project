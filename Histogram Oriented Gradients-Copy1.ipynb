{
 "cells": [
  {
   "cell_type": "code",
   "execution_count": 1,
   "metadata": {},
   "outputs": [],
   "source": [
    "from datasets.load import load_samples\n",
    "import numpy as np\n",
    "import matplotlib.pyplot as plt\n",
    "import matplotlib.patches as patches\n",
    "import cv2\n",
    "\n",
    "%matplotlib inline\n",
    "plt.rcParams['figure.figsize'] = (15., 12.) # set default size of plots\n",
    "#plt.rcParams['image.interpolation'] = 'nearest'\n",
    "#plt.rcParams['image.cmap'] = 'gray'\n",
    "\n",
    "# for auto-reloading extenrnal modules\n",
    "%load_ext autoreload\n",
    "%autoreload 2"
   ]
  },
  {
   "cell_type": "code",
   "execution_count": 16,
   "metadata": {},
   "outputs": [],
   "source": [
    "samples = load_samples('val', 'datasets', resample=True)"
   ]
  },
  {
   "cell_type": "code",
   "execution_count": null,
   "metadata": {
    "scrolled": false
   },
   "outputs": [],
   "source": [
    "def draw_bbox(ax, name, box, col='r'):\n",
    "    r = patches.Rectangle((box[0], box[1]), \n",
    "                          box[2] - box[0],\n",
    "                          box[3] - box[1],\n",
    "                          linewidth=3,\n",
    "                          edgecolor=col,\n",
    "                          facecolor='none')\n",
    "    ax.add_patch(r)\n",
    "    ax.text(box[0], box[1], name,\n",
    "            bbox={'facecolor': col, 'linewidth': 0})\n",
    "\n",
    "def draw_annotation(ax, classes):\n",
    "    colors = plt.get_cmap('tab10')\n",
    "    for idx, cl in enumerate(classes):\n",
    "        col = colors(idx)\n",
    "        for box in cl['bounds']:\n",
    "            draw_bbox(ax, cl['name'], box, col)\n",
    "            \n",
    "\n",
    "for cl in samples.values():\n",
    "    for sample in cl[:5]:\n",
    "        fig, ax = plt.subplots(1)\n",
    "        ax.imshow(sample)\n",
    "        #draw_annotation(ax, sample['classes'])\n",
    "        plt.show()"
   ]
  },
  {
   "cell_type": "code",
   "execution_count": null,
   "metadata": {},
   "outputs": [],
   "source": []
  },
  {
   "cell_type": "code",
   "execution_count": null,
   "metadata": {},
   "outputs": [],
   "source": [
    "from skimage.feature import hog\n",
    "from skimage import data, exposure\n",
    "\n",
    "waldo = waldos[0]['img']\n",
    "print(waldo.shape)\n",
    "\n",
    "fd, hog_image = hog(waldo, orientations=8, pixels_per_cell=(16,16),\n",
    "                   cells_per_block=(1,1), visualize=True, multichannel=True)\n",
    "print(fd.shape)\n",
    "plt.subplot(1,2,1)\n",
    "plt.imshow(waldo)\n",
    "\n",
    "plt.subplot(1,2,2)\n",
    "plt.imshow(hog_image)\n",
    "plt.show()"
   ]
  }
 ],
 "metadata": {
  "kernelspec": {
   "display_name": "Python [conda env:cvpr] *",
   "language": "python",
   "name": "conda-env-cvpr-py"
  },
  "language_info": {
   "codemirror_mode": {
    "name": "ipython",
    "version": 3
   },
   "file_extension": ".py",
   "mimetype": "text/x-python",
   "name": "python",
   "nbconvert_exporter": "python",
   "pygments_lexer": "ipython3",
   "version": "3.6.9"
  }
 },
 "nbformat": 4,
 "nbformat_minor": 2
}
